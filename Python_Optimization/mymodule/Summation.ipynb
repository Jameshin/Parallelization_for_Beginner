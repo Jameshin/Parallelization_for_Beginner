{
 "cells": [
  {
   "cell_type": "code",
   "execution_count": 4,
   "id": "62b98505-8ce5-4c1b-b836-a7487e14e2c5",
   "metadata": {},
   "outputs": [
    {
     "name": "stdout",
     "output_type": "stream",
     "text": [
      "Python sum: 499999500000.0\n",
      "Python sum time: 0.0041048526763916016\n",
      "C array_sum: 499999500000.0\n",
      "C array_sum time: 0.002999544143676758\n"
     ]
    }
   ],
   "source": [
    "import my_module\n",
    "import time\n",
    "\n",
    "# 테스트할 배열 생성\n",
    "data = [float(i) for i in range(1000000)]\n",
    "\n",
    "# Python 내장 sum 함수 시간 측정\n",
    "start_time = time.time()\n",
    "python_sum = sum(data)\n",
    "print(\"Python sum:\", python_sum)\n",
    "print(\"Python sum time:\", time.time() - start_time)\n",
    "\n",
    "# C 모듈의 array_sum 함수 시간 측정\n",
    "start_time = time.time()\n",
    "c_sum = my_module.array_sum(data)\n",
    "print(\"C array_sum:\", c_sum)\n",
    "print(\"C array_sum time:\", time.time() - start_time)"
   ]
  },
  {
   "cell_type": "code",
   "execution_count": 6,
   "id": "78f855c9-bb9c-4e91-9b42-b98a778a5272",
   "metadata": {},
   "outputs": [
    {
     "name": "stdout",
     "output_type": "stream",
     "text": [
      "Numpy sum: 49999995000000.0\n",
      "Numpy sum time: 0.009019136428833008\n",
      "C array_sum: 49999995000000.0\n",
      "C array_sum time: 0.0069789886474609375\n"
     ]
    }
   ],
   "source": [
    "import my_numpy_module\n",
    "import numpy as np\n",
    "import time\n",
    "\n",
    "# 테스트할 배열 생성\n",
    "data = np.arange(10000000, dtype=np.float64)\n",
    "\n",
    "# Numpy sum 함수 시간 측정\n",
    "start_time = time.time()\n",
    "numpy_sum = np.sum(data)\n",
    "print(\"Numpy sum:\", numpy_sum)\n",
    "print(\"Numpy sum time:\", time.time() - start_time)\n",
    "\n",
    "# C 모듈의 array_sum 함수 시간 측정\n",
    "start_time = time.time()\n",
    "c_sum = my_numpy_module.array_sum(data)\n",
    "print(\"C array_sum:\", c_sum)\n",
    "print(\"C array_sum time:\", time.time() - start_time)\n"
   ]
  },
  {
   "cell_type": "code",
   "execution_count": null,
   "id": "9f47f7c6-3ced-48b3-ad47-dde9e1d7ea60",
   "metadata": {},
   "outputs": [],
   "source": []
  }
 ],
 "metadata": {
  "kernelspec": {
   "display_name": "Python 3 (ipykernel)",
   "language": "python",
   "name": "python3"
  },
  "language_info": {
   "codemirror_mode": {
    "name": "ipython",
    "version": 3
   },
   "file_extension": ".py",
   "mimetype": "text/x-python",
   "name": "python",
   "nbconvert_exporter": "python",
   "pygments_lexer": "ipython3",
   "version": "3.10.9"
  }
 },
 "nbformat": 4,
 "nbformat_minor": 5
}
